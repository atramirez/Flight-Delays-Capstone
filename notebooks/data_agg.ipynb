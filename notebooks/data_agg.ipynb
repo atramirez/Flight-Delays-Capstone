{
 "cells": [
  {
   "cell_type": "code",
   "execution_count": 1,
   "metadata": {},
   "outputs": [],
   "source": [
    "# Python Imports\n",
    "from os import listdir\n",
    "from os.path import isfile, join\n",
    "\n",
    "#External Imports\n",
    "import pandas as pd"
   ]
  },
  {
   "cell_type": "code",
   "execution_count": 6,
   "metadata": {},
   "outputs": [
    {
     "name": "stdout",
     "output_type": "stream",
     "text": [
      "['On_Time_Marketing_Carrier_On_Time_Performance_(Beginning_January_2018)_2021_11.csv', 'On_Time_Marketing_Carrier_On_Time_Performance_(Beginning_January_2018)_2021_12.csv', 'On_Time_Marketing_Carrier_On_Time_Performance_(Beginning_January_2018)_2022_1.csv', 'On_Time_Marketing_Carrier_On_Time_Performance_(Beginning_January_2018)_2022_10.csv', 'On_Time_Marketing_Carrier_On_Time_Performance_(Beginning_January_2018)_2022_2.csv', 'On_Time_Marketing_Carrier_On_Time_Performance_(Beginning_January_2018)_2022_3.csv', 'On_Time_Marketing_Carrier_On_Time_Performance_(Beginning_January_2018)_2022_4.csv', 'On_Time_Marketing_Carrier_On_Time_Performance_(Beginning_January_2018)_2022_5.csv', 'On_Time_Marketing_Carrier_On_Time_Performance_(Beginning_January_2018)_2022_6.csv', 'On_Time_Marketing_Carrier_On_Time_Performance_(Beginning_January_2018)_2022_7.csv', 'On_Time_Marketing_Carrier_On_Time_Performance_(Beginning_January_2018)_2022_8.csv', 'On_Time_Marketing_Carrier_On_Time_Performance_(Beginning_January_2018)_2022_9.csv']\n"
     ]
    },
    {
     "name": "stderr",
     "output_type": "stream",
     "text": [
      "C:\\Users\\adenr\\AppData\\Local\\Temp\\ipykernel_19756\\3515987516.py:11: DtypeWarning: Columns (11,13,57,86) have mixed types. Specify dtype option on import or set low_memory=False.\n",
      "  data_lst.append(pd.read_csv(this_csv_path))\n",
      "C:\\Users\\adenr\\AppData\\Local\\Temp\\ipykernel_19756\\3515987516.py:11: DtypeWarning: Columns (11,13,86,93) have mixed types. Specify dtype option on import or set low_memory=False.\n",
      "  data_lst.append(pd.read_csv(this_csv_path))\n",
      "C:\\Users\\adenr\\AppData\\Local\\Temp\\ipykernel_19756\\3515987516.py:11: DtypeWarning: Columns (11,13,78,85,86,93) have mixed types. Specify dtype option on import or set low_memory=False.\n",
      "  data_lst.append(pd.read_csv(this_csv_path))\n",
      "C:\\Users\\adenr\\AppData\\Local\\Temp\\ipykernel_19756\\3515987516.py:11: DtypeWarning: Columns (11,13,86,93) have mixed types. Specify dtype option on import or set low_memory=False.\n",
      "  data_lst.append(pd.read_csv(this_csv_path))\n",
      "C:\\Users\\adenr\\AppData\\Local\\Temp\\ipykernel_19756\\3515987516.py:11: DtypeWarning: Columns (11,13,78,85,86,93) have mixed types. Specify dtype option on import or set low_memory=False.\n",
      "  data_lst.append(pd.read_csv(this_csv_path))\n",
      "C:\\Users\\adenr\\AppData\\Local\\Temp\\ipykernel_19756\\3515987516.py:11: DtypeWarning: Columns (11,13,86,93,94) have mixed types. Specify dtype option on import or set low_memory=False.\n",
      "  data_lst.append(pd.read_csv(this_csv_path))\n",
      "C:\\Users\\adenr\\AppData\\Local\\Temp\\ipykernel_19756\\3515987516.py:11: DtypeWarning: Columns (11,13,86,93) have mixed types. Specify dtype option on import or set low_memory=False.\n",
      "  data_lst.append(pd.read_csv(this_csv_path))\n",
      "C:\\Users\\adenr\\AppData\\Local\\Temp\\ipykernel_19756\\3515987516.py:11: DtypeWarning: Columns (11,13,86,93) have mixed types. Specify dtype option on import or set low_memory=False.\n",
      "  data_lst.append(pd.read_csv(this_csv_path))\n",
      "C:\\Users\\adenr\\AppData\\Local\\Temp\\ipykernel_19756\\3515987516.py:11: DtypeWarning: Columns (11,13,85,86,93) have mixed types. Specify dtype option on import or set low_memory=False.\n",
      "  data_lst.append(pd.read_csv(this_csv_path))\n",
      "C:\\Users\\adenr\\AppData\\Local\\Temp\\ipykernel_19756\\3515987516.py:11: DtypeWarning: Columns (11,13,86,93) have mixed types. Specify dtype option on import or set low_memory=False.\n",
      "  data_lst.append(pd.read_csv(this_csv_path))\n",
      "C:\\Users\\adenr\\AppData\\Local\\Temp\\ipykernel_19756\\3515987516.py:11: DtypeWarning: Columns (11,13,86,93) have mixed types. Specify dtype option on import or set low_memory=False.\n",
      "  data_lst.append(pd.read_csv(this_csv_path))\n",
      "C:\\Users\\adenr\\AppData\\Local\\Temp\\ipykernel_19756\\3515987516.py:11: DtypeWarning: Columns (11,13,85,86,93) have mixed types. Specify dtype option on import or set low_memory=False.\n",
      "  data_lst.append(pd.read_csv(this_csv_path))\n"
     ]
    }
   ],
   "source": [
    "# Read in *all* split up .csvs\n",
    "#! Verify path before running\n",
    "csv_path = 'C:\\Code\\school\\DAT-490-Data\\csvs'\n",
    "data_lst = []\n",
    "\n",
    "csv_files = [f for f in listdir(csv_path) if isfile(join(csv_path, f))]\n",
    "print(onlyfiles)\n",
    "\n",
    "for data_file in csv_files:\n",
    "    this_csv_path = join(csv_path, data_file)\n",
    "    data_lst.append(pd.read_csv(this_csv_path))"
   ]
  },
  {
   "cell_type": "code",
   "execution_count": 9,
   "metadata": {},
   "outputs": [],
   "source": [
    "assert len(data_lst) == 12"
   ]
  },
  {
   "cell_type": "code",
   "execution_count": null,
   "metadata": {},
   "outputs": [],
   "source": []
  }
 ],
 "metadata": {
  "kernelspec": {
   "display_name": "dat490",
   "language": "python",
   "name": "python3"
  },
  "language_info": {
   "codemirror_mode": {
    "name": "ipython",
    "version": 3
   },
   "file_extension": ".py",
   "mimetype": "text/x-python",
   "name": "python",
   "nbconvert_exporter": "python",
   "pygments_lexer": "ipython3",
   "version": "3.9.16"
  },
  "orig_nbformat": 4,
  "vscode": {
   "interpreter": {
    "hash": "00d928ba00459f5c8729a0edcbd25aaead446d6d8d0fa6e47fa06a4cfccc3b88"
   }
  }
 },
 "nbformat": 4,
 "nbformat_minor": 2
}
