{
 "cells": [
  {
   "cell_type": "code",
   "execution_count": 1,
   "metadata": {},
   "outputs": [],
   "source": [
    "# Python Imports\n",
    "\n",
    "# Custom Library Imports\n",
    "# from util.load_data_by_os import DataManager\n",
    "\n",
    "#External Imports\n",
    "import pandas as pd\n",
    "import matplotlib.pyplot as plt\n",
    "import seaborn as sns\n"
   ]
  },
  {
   "cell_type": "code",
   "execution_count": 2,
   "metadata": {},
   "outputs": [],
   "source": [
    "# datamanager = DataManager()"
   ]
  },
  {
   "cell_type": "code",
   "execution_count": 3,
   "metadata": {},
   "outputs": [
    {
     "name": "stderr",
     "output_type": "stream",
     "text": [
      "/tmp/ipykernel_54383/2935119021.py:2: DtypeWarning: Columns (12,14,87,94) have mixed types. Specify dtype option on import or set low_memory=False.\n",
      "  ord_df = pd.read_csv(\"../data/ORD_11_21-11_22.csv\")\n"
     ]
    }
   ],
   "source": [
    "# Import ORD specific Data\n",
    "ord_df = pd.read_csv(\"../data/ORD_11_21-11_22.csv\")\n",
    "# ord_df = datamanager.load_ord_by_os()"
   ]
  },
  {
   "cell_type": "code",
   "execution_count": 4,
   "metadata": {},
   "outputs": [
    {
     "data": {
      "text/html": [
       "<div>\n",
       "<style scoped>\n",
       "    .dataframe tbody tr th:only-of-type {\n",
       "        vertical-align: middle;\n",
       "    }\n",
       "\n",
       "    .dataframe tbody tr th {\n",
       "        vertical-align: top;\n",
       "    }\n",
       "\n",
       "    .dataframe thead th {\n",
       "        text-align: right;\n",
       "    }\n",
       "</style>\n",
       "<table border=\"1\" class=\"dataframe\">\n",
       "  <thead>\n",
       "    <tr style=\"text-align: right;\">\n",
       "      <th></th>\n",
       "      <th>Originally_Scheduled_Code_Share_Airline</th>\n",
       "      <th>IATA_Code_Originally_Scheduled_Code_Share_Airline</th>\n",
       "      <th>Div2Airport</th>\n",
       "      <th>Div2TailNum</th>\n",
       "    </tr>\n",
       "  </thead>\n",
       "  <tbody>\n",
       "    <tr>\n",
       "      <th>0</th>\n",
       "      <td>NaN</td>\n",
       "      <td>NaN</td>\n",
       "      <td>NaN</td>\n",
       "      <td>NaN</td>\n",
       "    </tr>\n",
       "    <tr>\n",
       "      <th>1</th>\n",
       "      <td>NaN</td>\n",
       "      <td>NaN</td>\n",
       "      <td>NaN</td>\n",
       "      <td>NaN</td>\n",
       "    </tr>\n",
       "    <tr>\n",
       "      <th>2</th>\n",
       "      <td>NaN</td>\n",
       "      <td>NaN</td>\n",
       "      <td>NaN</td>\n",
       "      <td>NaN</td>\n",
       "    </tr>\n",
       "    <tr>\n",
       "      <th>3</th>\n",
       "      <td>NaN</td>\n",
       "      <td>NaN</td>\n",
       "      <td>NaN</td>\n",
       "      <td>NaN</td>\n",
       "    </tr>\n",
       "    <tr>\n",
       "      <th>4</th>\n",
       "      <td>NaN</td>\n",
       "      <td>NaN</td>\n",
       "      <td>NaN</td>\n",
       "      <td>NaN</td>\n",
       "    </tr>\n",
       "    <tr>\n",
       "      <th>...</th>\n",
       "      <td>...</td>\n",
       "      <td>...</td>\n",
       "      <td>...</td>\n",
       "      <td>...</td>\n",
       "    </tr>\n",
       "    <tr>\n",
       "      <th>599720</th>\n",
       "      <td>NaN</td>\n",
       "      <td>NaN</td>\n",
       "      <td>NaN</td>\n",
       "      <td>NaN</td>\n",
       "    </tr>\n",
       "    <tr>\n",
       "      <th>599721</th>\n",
       "      <td>NaN</td>\n",
       "      <td>NaN</td>\n",
       "      <td>NaN</td>\n",
       "      <td>NaN</td>\n",
       "    </tr>\n",
       "    <tr>\n",
       "      <th>599722</th>\n",
       "      <td>NaN</td>\n",
       "      <td>NaN</td>\n",
       "      <td>NaN</td>\n",
       "      <td>NaN</td>\n",
       "    </tr>\n",
       "    <tr>\n",
       "      <th>599723</th>\n",
       "      <td>NaN</td>\n",
       "      <td>NaN</td>\n",
       "      <td>NaN</td>\n",
       "      <td>NaN</td>\n",
       "    </tr>\n",
       "    <tr>\n",
       "      <th>599724</th>\n",
       "      <td>NaN</td>\n",
       "      <td>NaN</td>\n",
       "      <td>NaN</td>\n",
       "      <td>NaN</td>\n",
       "    </tr>\n",
       "  </tbody>\n",
       "</table>\n",
       "<p>599725 rows × 4 columns</p>\n",
       "</div>"
      ],
      "text/plain": [
       "       Originally_Scheduled_Code_Share_Airline  \\\n",
       "0                                          NaN   \n",
       "1                                          NaN   \n",
       "2                                          NaN   \n",
       "3                                          NaN   \n",
       "4                                          NaN   \n",
       "...                                        ...   \n",
       "599720                                     NaN   \n",
       "599721                                     NaN   \n",
       "599722                                     NaN   \n",
       "599723                                     NaN   \n",
       "599724                                     NaN   \n",
       "\n",
       "       IATA_Code_Originally_Scheduled_Code_Share_Airline Div2Airport  \\\n",
       "0                                                    NaN         NaN   \n",
       "1                                                    NaN         NaN   \n",
       "2                                                    NaN         NaN   \n",
       "3                                                    NaN         NaN   \n",
       "4                                                    NaN         NaN   \n",
       "...                                                  ...         ...   \n",
       "599720                                               NaN         NaN   \n",
       "599721                                               NaN         NaN   \n",
       "599722                                               NaN         NaN   \n",
       "599723                                               NaN         NaN   \n",
       "599724                                               NaN         NaN   \n",
       "\n",
       "       Div2TailNum  \n",
       "0              NaN  \n",
       "1              NaN  \n",
       "2              NaN  \n",
       "3              NaN  \n",
       "4              NaN  \n",
       "...            ...  \n",
       "599720         NaN  \n",
       "599721         NaN  \n",
       "599722         NaN  \n",
       "599723         NaN  \n",
       "599724         NaN  \n",
       "\n",
       "[599725 rows x 4 columns]"
      ]
     },
     "execution_count": 4,
     "metadata": {},
     "output_type": "execute_result"
    }
   ],
   "source": [
    "# Columns with mixed type warning, lets investigate\n",
    "ord_df.iloc[:, [12, 14, 87, 94]]"
   ]
  },
  {
   "cell_type": "code",
   "execution_count": 5,
   "metadata": {},
   "outputs": [],
   "source": [
    "# None of these columns are needed, we can ignore and create our second subfile\n",
    "include_lst = ['Year', 'Quarter', 'Month', 'DayofMonth', 'DayOfWeek', 'FlightDate','Marketing_Airline_Network', 'Tail_Number', 'Flight_Number_Operating_Airline',\n",
    "'Tail_Number', 'Origin', 'Dest', 'OriginCityName', 'OriginState', 'OriginStateFips', 'OriginStateName',\n",
    "'DestCityName', 'DestState', 'DestStateFips', 'DestStateName', 'CRSDepTime', 'DepTime', 'DepDelay',\n",
    "'DepDelayMinutes', 'DepDel15', 'DepartureDelayGroups', 'DepTimeBlk', 'TaxiOut', 'WheelsOff', 'WheelsOn',\n",
    "'TaxiIn', 'CRSArrTime', 'ArrTime', 'ArrDelay', 'ArrDelayMinutes', 'ArrDel15', 'ArrivalDelayGroups',\n",
    "'ArrTimeBlk', 'Cancelled', 'CancellationCode', 'Diverted', 'CRSElapsedTime', 'ActualElapsedTime',\n",
    "'AirTime', 'Flights', 'Distance', 'DistanceGroup', 'CarrierDelay', 'WeatherDelay', 'NASDelay', 'SecurityDelay',\n",
    "'LateAircraftDelay']\n",
    "\n",
    "new_ord_df = ord_df[include_lst]"
   ]
  },
  {
   "cell_type": "code",
   "execution_count": 6,
   "metadata": {},
   "outputs": [
    {
     "name": "stdout",
     "output_type": "stream",
     "text": [
      "599725\n"
     ]
    },
    {
     "data": {
      "text/html": [
       "<div>\n",
       "<style scoped>\n",
       "    .dataframe tbody tr th:only-of-type {\n",
       "        vertical-align: middle;\n",
       "    }\n",
       "\n",
       "    .dataframe tbody tr th {\n",
       "        vertical-align: top;\n",
       "    }\n",
       "\n",
       "    .dataframe thead th {\n",
       "        text-align: right;\n",
       "    }\n",
       "</style>\n",
       "<table border=\"1\" class=\"dataframe\">\n",
       "  <thead>\n",
       "    <tr style=\"text-align: right;\">\n",
       "      <th></th>\n",
       "      <th>Year</th>\n",
       "      <th>Quarter</th>\n",
       "      <th>Month</th>\n",
       "      <th>DayofMonth</th>\n",
       "      <th>DayOfWeek</th>\n",
       "      <th>FlightDate</th>\n",
       "      <th>Marketing_Airline_Network</th>\n",
       "      <th>Tail_Number</th>\n",
       "      <th>Flight_Number_Operating_Airline</th>\n",
       "      <th>Tail_Number</th>\n",
       "      <th>...</th>\n",
       "      <th>ActualElapsedTime</th>\n",
       "      <th>AirTime</th>\n",
       "      <th>Flights</th>\n",
       "      <th>Distance</th>\n",
       "      <th>DistanceGroup</th>\n",
       "      <th>CarrierDelay</th>\n",
       "      <th>WeatherDelay</th>\n",
       "      <th>NASDelay</th>\n",
       "      <th>SecurityDelay</th>\n",
       "      <th>LateAircraftDelay</th>\n",
       "    </tr>\n",
       "  </thead>\n",
       "  <tbody>\n",
       "    <tr>\n",
       "      <th>0</th>\n",
       "      <td>2021</td>\n",
       "      <td>4</td>\n",
       "      <td>11</td>\n",
       "      <td>17</td>\n",
       "      <td>3</td>\n",
       "      <td>2021-11-17</td>\n",
       "      <td>UA</td>\n",
       "      <td>N442AW</td>\n",
       "      <td>3727</td>\n",
       "      <td>N442AW</td>\n",
       "      <td>...</td>\n",
       "      <td>110.0</td>\n",
       "      <td>72.0</td>\n",
       "      <td>1.0</td>\n",
       "      <td>536.0</td>\n",
       "      <td>3</td>\n",
       "      <td>NaN</td>\n",
       "      <td>NaN</td>\n",
       "      <td>NaN</td>\n",
       "      <td>NaN</td>\n",
       "      <td>NaN</td>\n",
       "    </tr>\n",
       "    <tr>\n",
       "      <th>1</th>\n",
       "      <td>2021</td>\n",
       "      <td>4</td>\n",
       "      <td>11</td>\n",
       "      <td>17</td>\n",
       "      <td>3</td>\n",
       "      <td>2021-11-17</td>\n",
       "      <td>UA</td>\n",
       "      <td>N423AW</td>\n",
       "      <td>3726</td>\n",
       "      <td>N423AW</td>\n",
       "      <td>...</td>\n",
       "      <td>138.0</td>\n",
       "      <td>89.0</td>\n",
       "      <td>1.0</td>\n",
       "      <td>473.0</td>\n",
       "      <td>2</td>\n",
       "      <td>1.0</td>\n",
       "      <td>0.0</td>\n",
       "      <td>11.0</td>\n",
       "      <td>0.0</td>\n",
       "      <td>18.0</td>\n",
       "    </tr>\n",
       "    <tr>\n",
       "      <th>2</th>\n",
       "      <td>2021</td>\n",
       "      <td>4</td>\n",
       "      <td>11</td>\n",
       "      <td>17</td>\n",
       "      <td>3</td>\n",
       "      <td>2021-11-17</td>\n",
       "      <td>UA</td>\n",
       "      <td>N438AW</td>\n",
       "      <td>3725</td>\n",
       "      <td>N438AW</td>\n",
       "      <td>...</td>\n",
       "      <td>64.0</td>\n",
       "      <td>29.0</td>\n",
       "      <td>1.0</td>\n",
       "      <td>67.0</td>\n",
       "      <td>1</td>\n",
       "      <td>NaN</td>\n",
       "      <td>NaN</td>\n",
       "      <td>NaN</td>\n",
       "      <td>NaN</td>\n",
       "      <td>NaN</td>\n",
       "    </tr>\n",
       "    <tr>\n",
       "      <th>3</th>\n",
       "      <td>2021</td>\n",
       "      <td>4</td>\n",
       "      <td>11</td>\n",
       "      <td>17</td>\n",
       "      <td>3</td>\n",
       "      <td>2021-11-17</td>\n",
       "      <td>UA</td>\n",
       "      <td>N433AW</td>\n",
       "      <td>3723</td>\n",
       "      <td>N433AW</td>\n",
       "      <td>...</td>\n",
       "      <td>163.0</td>\n",
       "      <td>124.0</td>\n",
       "      <td>1.0</td>\n",
       "      <td>794.0</td>\n",
       "      <td>4</td>\n",
       "      <td>NaN</td>\n",
       "      <td>NaN</td>\n",
       "      <td>NaN</td>\n",
       "      <td>NaN</td>\n",
       "      <td>NaN</td>\n",
       "    </tr>\n",
       "    <tr>\n",
       "      <th>4</th>\n",
       "      <td>2021</td>\n",
       "      <td>4</td>\n",
       "      <td>11</td>\n",
       "      <td>17</td>\n",
       "      <td>3</td>\n",
       "      <td>2021-11-17</td>\n",
       "      <td>UA</td>\n",
       "      <td>N433AW</td>\n",
       "      <td>3722</td>\n",
       "      <td>N433AW</td>\n",
       "      <td>...</td>\n",
       "      <td>146.0</td>\n",
       "      <td>120.0</td>\n",
       "      <td>1.0</td>\n",
       "      <td>794.0</td>\n",
       "      <td>4</td>\n",
       "      <td>NaN</td>\n",
       "      <td>NaN</td>\n",
       "      <td>NaN</td>\n",
       "      <td>NaN</td>\n",
       "      <td>NaN</td>\n",
       "    </tr>\n",
       "  </tbody>\n",
       "</table>\n",
       "<p>5 rows × 52 columns</p>\n",
       "</div>"
      ],
      "text/plain": [
       "   Year  Quarter  Month  DayofMonth  DayOfWeek  FlightDate  \\\n",
       "0  2021        4     11          17          3  2021-11-17   \n",
       "1  2021        4     11          17          3  2021-11-17   \n",
       "2  2021        4     11          17          3  2021-11-17   \n",
       "3  2021        4     11          17          3  2021-11-17   \n",
       "4  2021        4     11          17          3  2021-11-17   \n",
       "\n",
       "  Marketing_Airline_Network Tail_Number  Flight_Number_Operating_Airline  \\\n",
       "0                        UA      N442AW                             3727   \n",
       "1                        UA      N423AW                             3726   \n",
       "2                        UA      N438AW                             3725   \n",
       "3                        UA      N433AW                             3723   \n",
       "4                        UA      N433AW                             3722   \n",
       "\n",
       "  Tail_Number  ... ActualElapsedTime AirTime Flights Distance  DistanceGroup  \\\n",
       "0      N442AW  ...             110.0    72.0     1.0    536.0              3   \n",
       "1      N423AW  ...             138.0    89.0     1.0    473.0              2   \n",
       "2      N438AW  ...              64.0    29.0     1.0     67.0              1   \n",
       "3      N433AW  ...             163.0   124.0     1.0    794.0              4   \n",
       "4      N433AW  ...             146.0   120.0     1.0    794.0              4   \n",
       "\n",
       "  CarrierDelay WeatherDelay NASDelay  SecurityDelay LateAircraftDelay  \n",
       "0          NaN          NaN      NaN            NaN               NaN  \n",
       "1          1.0          0.0     11.0            0.0              18.0  \n",
       "2          NaN          NaN      NaN            NaN               NaN  \n",
       "3          NaN          NaN      NaN            NaN               NaN  \n",
       "4          NaN          NaN      NaN            NaN               NaN  \n",
       "\n",
       "[5 rows x 52 columns]"
      ]
     },
     "execution_count": 6,
     "metadata": {},
     "output_type": "execute_result"
    }
   ],
   "source": [
    "print(len(new_ord_df))\n",
    "new_ord_df.head()"
   ]
  },
  {
   "cell_type": "code",
   "execution_count": 7,
   "metadata": {},
   "outputs": [],
   "source": [
    "new_ord_df.to_csv('../data/ORD_11_21-11-22_short.csv')"
   ]
  },
  {
   "cell_type": "code",
   "execution_count": 8,
   "metadata": {},
   "outputs": [
    {
     "name": "stdout",
     "output_type": "stream",
     "text": [
      "NA exists in: ['Tail_Number', 'Tail_Number', 'DepTime', 'DepDelay', 'DepDelayMinutes', 'DepDel15', 'DepartureDelayGroups', 'TaxiOut', 'WheelsOff', 'WheelsOn', 'TaxiIn', 'ArrTime', 'ArrDelay', 'ArrDelayMinutes', 'ArrDel15', 'ArrivalDelayGroups', 'CancellationCode', 'ActualElapsedTime', 'AirTime', 'CarrierDelay', 'WeatherDelay', 'NASDelay', 'SecurityDelay', 'LateAircraftDelay']\n",
      "There are no NAs in : ['Year', 'Quarter', 'Month', 'DayofMonth', 'DayOfWeek', 'FlightDate', 'Marketing_Airline_Network', 'Flight_Number_Operating_Airline', 'Origin', 'Dest', 'OriginCityName', 'OriginState', 'OriginStateFips', 'OriginStateName', 'DestCityName', 'DestState', 'DestStateFips', 'DestStateName', 'CRSDepTime', 'DepTimeBlk', 'CRSArrTime', 'ArrTimeBlk', 'Cancelled', 'Diverted', 'CRSElapsedTime', 'Flights', 'Distance', 'DistanceGroup']\n"
     ]
    }
   ],
   "source": [
    "ord_df = new_ord_df\n",
    "\n",
    "def lst_na_cols():\n",
    "    na_col_lst = []\n",
    "    no_na_lst = []\n",
    "    for i in ord_df.columns:\n",
    "        if ord_df[i].isna().values.any():\n",
    "            na_col_lst.append(i)\n",
    "        else:\n",
    "            no_na_lst.append(i)\n",
    "    assert len(ord_df.columns) == (len(na_col_lst) + len(no_na_lst))\n",
    "\n",
    "    print(\"NA exists in:\", na_col_lst)\n",
    "    print(\"There are no NAs in :\", no_na_lst)\n",
    "\n",
    "lst_na_cols()"
   ]
  },
  {
   "cell_type": "code",
   "execution_count": 9,
   "metadata": {},
   "outputs": [],
   "source": [
    "# Before dealing with NA we should fill the NAs that should be zero\n",
    "# These are delay times for sure\n",
    "ord_df['CarrierDelay'] = ord_df['CarrierDelay'].fillna(0)\n",
    "ord_df['WeatherDelay'] = ord_df['WeatherDelay'].fillna(0)\n",
    "ord_df['NASDelay'] = ord_df['NASDelay'].fillna(0)\n",
    "ord_df['SecurityDelay'] = ord_df['SecurityDelay'].fillna(0)"
   ]
  },
  {
   "cell_type": "code",
   "execution_count": 10,
   "metadata": {},
   "outputs": [
    {
     "name": "stdout",
     "output_type": "stream",
     "text": [
      "NA exists in: ['Tail_Number', 'Tail_Number', 'DepTime', 'DepDelay', 'DepDelayMinutes', 'DepDel15', 'DepartureDelayGroups', 'TaxiOut', 'WheelsOff', 'WheelsOn', 'TaxiIn', 'ArrTime', 'ArrDelay', 'ArrDelayMinutes', 'ArrDel15', 'ArrivalDelayGroups', 'CancellationCode', 'ActualElapsedTime', 'AirTime', 'LateAircraftDelay']\n",
      "There are no NAs in : ['Year', 'Quarter', 'Month', 'DayofMonth', 'DayOfWeek', 'FlightDate', 'Marketing_Airline_Network', 'Flight_Number_Operating_Airline', 'Origin', 'Dest', 'OriginCityName', 'OriginState', 'OriginStateFips', 'OriginStateName', 'DestCityName', 'DestState', 'DestStateFips', 'DestStateName', 'CRSDepTime', 'DepTimeBlk', 'CRSArrTime', 'ArrTimeBlk', 'Cancelled', 'Diverted', 'CRSElapsedTime', 'Flights', 'Distance', 'DistanceGroup', 'CarrierDelay', 'WeatherDelay', 'NASDelay', 'SecurityDelay']\n"
     ]
    }
   ],
   "source": [
    "lst_na_cols()"
   ]
  },
  {
   "cell_type": "code",
   "execution_count": 11,
   "metadata": {},
   "outputs": [
    {
     "name": "stdout",
     "output_type": "stream",
     "text": [
      "Dropped 17004 data points\n"
     ]
    }
   ],
   "source": [
    "pre_ord_df_len = len(ord_df)\n",
    "ord_df = ord_df.dropna(subset=['ArrDelayMinutes', 'ArrDelay'])\n",
    "print(f\"Dropped {pre_ord_df_len - len(ord_df)} data points\")"
   ]
  },
  {
   "attachments": {},
   "cell_type": "markdown",
   "metadata": {},
   "source": [
    "## Exploring\n",
    "\n",
    "Let's explore some basic data on important points and make basic figures"
   ]
  },
  {
   "cell_type": "code",
   "execution_count": 12,
   "metadata": {},
   "outputs": [
    {
     "name": "stdout",
     "output_type": "stream",
     "text": [
      "ORD All flights Delay Mean: 4.1678178751066115\n",
      "ORD All flights Delay Median: -8.0\n"
     ]
    }
   ],
   "source": [
    "ord_delay_mean = ord_df['ArrDelay'].mean()\n",
    "ord_delay_median = ord_df['ArrDelay'].median()\n",
    "\n",
    "print(\"ORD All flights Delay Mean:\", ord_delay_mean)\n",
    "print(\"ORD All flights Delay Median:\", ord_delay_median)"
   ]
  },
  {
   "cell_type": "code",
   "execution_count": 13,
   "metadata": {},
   "outputs": [
    {
     "name": "stdout",
     "output_type": "stream",
     "text": [
      "ORD Delay Mean: 73.27490338096442\n",
      "ORD Delay Median: 42.0\n"
     ]
    }
   ],
   "source": [
    "ord_delays_df = ord_df['ArrDelay'] >= 15\n",
    "ord_delays_df = ord_df[ord_delays_df]\n",
    "ord_delay_mean = ord_delays_df['ArrDelay'].mean()\n",
    "ord_delay_median = ord_delays_df['ArrDelay'].median()\n",
    "\n",
    "print(\"ORD Delay Mean:\", ord_delay_mean)\n",
    "print(\"ORD Delay Median:\", ord_delay_median)"
   ]
  },
  {
   "cell_type": "code",
   "execution_count": 14,
   "metadata": {},
   "outputs": [
    {
     "name": "stdout",
     "output_type": "stream",
     "text": [
      "Amount of Flights: 582721\n",
      "Amount of Delays: 106863\n",
      "Precentage of Delayed Flights: 0.183386217417941\n"
     ]
    }
   ],
   "source": [
    "flights_num = ord_df['ArrDelay'].count()\n",
    "delays_num = ord_delays_df['ArrDelay'].count()\n",
    "print(\"Amount of Flights:\", flights_num)\n",
    "print(\"Amount of Delays:\", delays_num)\n",
    "print(\"Precentage of Delayed Flights:\", (delays_num/flights_num))"
   ]
  },
  {
   "cell_type": "code",
   "execution_count": 15,
   "metadata": {},
   "outputs": [
    {
     "data": {
      "image/png": "[encoded data removed]",
      "text/plain": [
       "<Figure size 1400x1000 with 1 Axes>"
      ]
     },
     "metadata": {},
     "output_type": "display_data"
    }
   ],
   "source": [
    "pie_chart_lst = [ord_df['CarrierDelay'].sum(), ord_df['WeatherDelay'].sum(),\n",
    " ord_df['NASDelay'].sum(), ord_df['SecurityDelay'].sum(), ord_df['LateAircraftDelay'].sum()]\n",
    "\n",
    "pie_chart_labels_lst = [\"Carrier Delay\", 'Weather Delay', 'Air System Delay',\n",
    " 'Security Delay', 'Late Aircraft Delay']\n",
    "\n",
    "fig, ax1 = plt.subplots(1,1, figsize=(14,10))\n",
    "ax1.pie(pie_chart_lst, labels=pie_chart_labels_lst, autopct='%1.1f%%', explode=(.02, .02, .02, .02, .02));\n",
    "ax1.set_title(\"ORD Delay Split\");"
   ]
  },
  {
   "cell_type": "code",
   "execution_count": 16,
   "metadata": {},
   "outputs": [],
   "source": [
    "ord_delay_types_df = ord_delays_df[['Month','CarrierDelay', 'WeatherDelay', 'SecurityDelay', 'NASDelay', 'LateAircraftDelay']]\n",
    "\n",
    "# fig, ax1 = plt.subplots(1,1, figsize=(14,10))\n",
    "# ord_delay_types_df.plot(x='Month', kind='bar', stacked=True)\n",
    "# ord_delay_types_df.plot(kind='bar', stacked=True)"
   ]
  }
 ],
 "metadata": {
  "kernelspec": {
   "display_name": "dat494",
   "language": "python",
   "name": "python3"
  },
  "language_info": {
   "codemirror_mode": {
    "name": "ipython",
    "version": 3
   },
   "file_extension": ".py",
   "mimetype": "text/x-python",
   "name": "python",
   "nbconvert_exporter": "python",
   "pygments_lexer": "ipython3",
   "version": "3.8.15"
  },
  "orig_nbformat": 4,
  "vscode": {
   "interpreter": {
    "hash": "d1f554ed47841e6d530ca638f2862d803e58f7c3ff61707e03f418f2eb0dd246"
   }
  }
 },
 "nbformat": 4,
 "nbformat_minor": 2
}
