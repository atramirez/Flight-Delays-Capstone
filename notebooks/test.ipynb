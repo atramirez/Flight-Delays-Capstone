{
 "cells": [
  {
   "cell_type": "code",
   "execution_count": 1,
   "metadata": {},
   "outputs": [],
   "source": [
    "#External Imports\n",
    "import pandas as pd\n",
    "import matplotlib.pyplot as plt\n",
    "# import seaborn as sns\n",
    "\n",
    "from sklearn.linear_model import LogisticRegression\n",
    "from sklearn.model_selection import train_test_split"
   ]
  },
  {
   "cell_type": "code",
   "execution_count": 2,
   "metadata": {},
   "outputs": [],
   "source": [
    "# Import ORD specific Data\n",
    "ord_df = pd.read_csv(\"../data/ORD_11_21-11-22_short.csv\")\n",
    "# ord_df = datamanager.load_ord_by_os()"
   ]
  },
  {
   "cell_type": "code",
   "execution_count": 3,
   "metadata": {},
   "outputs": [],
   "source": [
    "ord_df['CarrierDelay'] = ord_df['CarrierDelay'].fillna(0)\n",
    "ord_df['WeatherDelay'] = ord_df['WeatherDelay'].fillna(0)\n",
    "ord_df['NASDelay'] = ord_df['NASDelay'].fillna(0)\n",
    "ord_df['SecurityDelay'] = ord_df['SecurityDelay'].fillna(0)"
   ]
  },
  {
   "cell_type": "code",
   "execution_count": 4,
   "metadata": {},
   "outputs": [
    {
     "data": {
      "text/html": [
       "<div>\n",
       "<style scoped>\n",
       "    .dataframe tbody tr th:only-of-type {\n",
       "        vertical-align: middle;\n",
       "    }\n",
       "\n",
       "    .dataframe tbody tr th {\n",
       "        vertical-align: top;\n",
       "    }\n",
       "\n",
       "    .dataframe thead th {\n",
       "        text-align: right;\n",
       "    }\n",
       "</style>\n",
       "<table border=\"1\" class=\"dataframe\">\n",
       "  <thead>\n",
       "    <tr style=\"text-align: right;\">\n",
       "      <th></th>\n",
       "      <th>Unnamed: 0</th>\n",
       "      <th>Year</th>\n",
       "      <th>Quarter</th>\n",
       "      <th>Month</th>\n",
       "      <th>DayofMonth</th>\n",
       "      <th>DayOfWeek</th>\n",
       "      <th>FlightDate</th>\n",
       "      <th>Marketing_Airline_Network</th>\n",
       "      <th>Tail_Number</th>\n",
       "      <th>Flight_Number_Operating_Airline</th>\n",
       "      <th>...</th>\n",
       "      <th>ActualElapsedTime</th>\n",
       "      <th>AirTime</th>\n",
       "      <th>Flights</th>\n",
       "      <th>Distance</th>\n",
       "      <th>DistanceGroup</th>\n",
       "      <th>CarrierDelay</th>\n",
       "      <th>WeatherDelay</th>\n",
       "      <th>NASDelay</th>\n",
       "      <th>SecurityDelay</th>\n",
       "      <th>LateAircraftDelay</th>\n",
       "    </tr>\n",
       "  </thead>\n",
       "  <tbody>\n",
       "    <tr>\n",
       "      <th>0</th>\n",
       "      <td>0</td>\n",
       "      <td>2021</td>\n",
       "      <td>4</td>\n",
       "      <td>11</td>\n",
       "      <td>17</td>\n",
       "      <td>3</td>\n",
       "      <td>2021-11-17</td>\n",
       "      <td>UA</td>\n",
       "      <td>N442AW</td>\n",
       "      <td>3727</td>\n",
       "      <td>...</td>\n",
       "      <td>110.0</td>\n",
       "      <td>72.0</td>\n",
       "      <td>1.0</td>\n",
       "      <td>536.0</td>\n",
       "      <td>3</td>\n",
       "      <td>0.0</td>\n",
       "      <td>0.0</td>\n",
       "      <td>0.0</td>\n",
       "      <td>0.0</td>\n",
       "      <td>NaN</td>\n",
       "    </tr>\n",
       "    <tr>\n",
       "      <th>1</th>\n",
       "      <td>1</td>\n",
       "      <td>2021</td>\n",
       "      <td>4</td>\n",
       "      <td>11</td>\n",
       "      <td>17</td>\n",
       "      <td>3</td>\n",
       "      <td>2021-11-17</td>\n",
       "      <td>UA</td>\n",
       "      <td>N423AW</td>\n",
       "      <td>3726</td>\n",
       "      <td>...</td>\n",
       "      <td>138.0</td>\n",
       "      <td>89.0</td>\n",
       "      <td>1.0</td>\n",
       "      <td>473.0</td>\n",
       "      <td>2</td>\n",
       "      <td>1.0</td>\n",
       "      <td>0.0</td>\n",
       "      <td>11.0</td>\n",
       "      <td>0.0</td>\n",
       "      <td>18.0</td>\n",
       "    </tr>\n",
       "    <tr>\n",
       "      <th>2</th>\n",
       "      <td>2</td>\n",
       "      <td>2021</td>\n",
       "      <td>4</td>\n",
       "      <td>11</td>\n",
       "      <td>17</td>\n",
       "      <td>3</td>\n",
       "      <td>2021-11-17</td>\n",
       "      <td>UA</td>\n",
       "      <td>N438AW</td>\n",
       "      <td>3725</td>\n",
       "      <td>...</td>\n",
       "      <td>64.0</td>\n",
       "      <td>29.0</td>\n",
       "      <td>1.0</td>\n",
       "      <td>67.0</td>\n",
       "      <td>1</td>\n",
       "      <td>0.0</td>\n",
       "      <td>0.0</td>\n",
       "      <td>0.0</td>\n",
       "      <td>0.0</td>\n",
       "      <td>NaN</td>\n",
       "    </tr>\n",
       "    <tr>\n",
       "      <th>3</th>\n",
       "      <td>3</td>\n",
       "      <td>2021</td>\n",
       "      <td>4</td>\n",
       "      <td>11</td>\n",
       "      <td>17</td>\n",
       "      <td>3</td>\n",
       "      <td>2021-11-17</td>\n",
       "      <td>UA</td>\n",
       "      <td>N433AW</td>\n",
       "      <td>3723</td>\n",
       "      <td>...</td>\n",
       "      <td>163.0</td>\n",
       "      <td>124.0</td>\n",
       "      <td>1.0</td>\n",
       "      <td>794.0</td>\n",
       "      <td>4</td>\n",
       "      <td>0.0</td>\n",
       "      <td>0.0</td>\n",
       "      <td>0.0</td>\n",
       "      <td>0.0</td>\n",
       "      <td>NaN</td>\n",
       "    </tr>\n",
       "    <tr>\n",
       "      <th>4</th>\n",
       "      <td>4</td>\n",
       "      <td>2021</td>\n",
       "      <td>4</td>\n",
       "      <td>11</td>\n",
       "      <td>17</td>\n",
       "      <td>3</td>\n",
       "      <td>2021-11-17</td>\n",
       "      <td>UA</td>\n",
       "      <td>N433AW</td>\n",
       "      <td>3722</td>\n",
       "      <td>...</td>\n",
       "      <td>146.0</td>\n",
       "      <td>120.0</td>\n",
       "      <td>1.0</td>\n",
       "      <td>794.0</td>\n",
       "      <td>4</td>\n",
       "      <td>0.0</td>\n",
       "      <td>0.0</td>\n",
       "      <td>0.0</td>\n",
       "      <td>0.0</td>\n",
       "      <td>NaN</td>\n",
       "    </tr>\n",
       "  </tbody>\n",
       "</table>\n",
       "<p>5 rows × 53 columns</p>\n",
       "</div>"
      ],
      "text/plain": [
       "   Unnamed: 0  Year  Quarter  Month  DayofMonth  DayOfWeek  FlightDate  \\\n",
       "0           0  2021        4     11          17          3  2021-11-17   \n",
       "1           1  2021        4     11          17          3  2021-11-17   \n",
       "2           2  2021        4     11          17          3  2021-11-17   \n",
       "3           3  2021        4     11          17          3  2021-11-17   \n",
       "4           4  2021        4     11          17          3  2021-11-17   \n",
       "\n",
       "  Marketing_Airline_Network Tail_Number  Flight_Number_Operating_Airline  ...  \\\n",
       "0                        UA      N442AW                             3727  ...   \n",
       "1                        UA      N423AW                             3726  ...   \n",
       "2                        UA      N438AW                             3725  ...   \n",
       "3                        UA      N433AW                             3723  ...   \n",
       "4                        UA      N433AW                             3722  ...   \n",
       "\n",
       "  ActualElapsedTime AirTime Flights Distance DistanceGroup  CarrierDelay  \\\n",
       "0             110.0    72.0     1.0    536.0             3           0.0   \n",
       "1             138.0    89.0     1.0    473.0             2           1.0   \n",
       "2              64.0    29.0     1.0     67.0             1           0.0   \n",
       "3             163.0   124.0     1.0    794.0             4           0.0   \n",
       "4             146.0   120.0     1.0    794.0             4           0.0   \n",
       "\n",
       "  WeatherDelay NASDelay SecurityDelay  LateAircraftDelay  \n",
       "0          0.0      0.0           0.0                NaN  \n",
       "1          0.0     11.0           0.0               18.0  \n",
       "2          0.0      0.0           0.0                NaN  \n",
       "3          0.0      0.0           0.0                NaN  \n",
       "4          0.0      0.0           0.0                NaN  \n",
       "\n",
       "[5 rows x 53 columns]"
      ]
     },
     "execution_count": 4,
     "metadata": {},
     "output_type": "execute_result"
    }
   ],
   "source": [
    "ord_df.head()"
   ]
  },
  {
   "cell_type": "code",
   "execution_count": 5,
   "metadata": {},
   "outputs": [
    {
     "name": "stdout",
     "output_type": "stream",
     "text": [
      "Index(['Unnamed: 0', 'Year', 'Quarter', 'Month', 'DayofMonth', 'DayOfWeek',\n",
      "       'FlightDate', 'Marketing_Airline_Network', 'Tail_Number',\n",
      "       'Flight_Number_Operating_Airline', 'Tail_Number.1', 'Origin', 'Dest',\n",
      "       'OriginCityName', 'OriginState', 'OriginStateFips', 'OriginStateName',\n",
      "       'DestCityName', 'DestState', 'DestStateFips', 'DestStateName',\n",
      "       'CRSDepTime', 'DepTime', 'DepDelay', 'DepDelayMinutes', 'DepDel15',\n",
      "       'DepartureDelayGroups', 'DepTimeBlk', 'TaxiOut', 'WheelsOff',\n",
      "       'WheelsOn', 'TaxiIn', 'CRSArrTime', 'ArrTime', 'ArrDelay',\n",
      "       'ArrDelayMinutes', 'ArrDel15', 'ArrivalDelayGroups', 'ArrTimeBlk',\n",
      "       'Cancelled', 'CancellationCode', 'Diverted', 'CRSElapsedTime',\n",
      "       'ActualElapsedTime', 'AirTime', 'Flights', 'Distance', 'DistanceGroup',\n",
      "       'CarrierDelay', 'WeatherDelay', 'NASDelay', 'SecurityDelay',\n",
      "       'LateAircraftDelay'],\n",
      "      dtype='object')\n"
     ]
    }
   ],
   "source": [
    "print(ord_df.columns)"
   ]
  },
  {
   "cell_type": "code",
   "execution_count": 6,
   "metadata": {},
   "outputs": [
    {
     "data": {
      "text/plain": [
       "['Year',\n",
       " 'Quarter',\n",
       " 'Month',\n",
       " 'DayofMonth',\n",
       " 'DayOfWeek',\n",
       " 'FlightDate',\n",
       " 'Marketing_Airline_Network',\n",
       " 'Tail_Number',\n",
       " 'Flight_Number_Operating_Airline',\n",
       " 'Tail_Number',\n",
       " 'Origin',\n",
       " 'Dest',\n",
       " 'OriginCityName',\n",
       " 'OriginState',\n",
       " 'OriginStateFips',\n",
       " 'OriginStateName',\n",
       " 'DestCityName',\n",
       " 'DestState',\n",
       " 'DestStateFips',\n",
       " 'DestStateName',\n",
       " 'CRSDepTime',\n",
       " 'DepTime',\n",
       " 'DepDelay',\n",
       " 'DepDelayMinutes',\n",
       " 'DepDel15',\n",
       " 'DepartureDelayGroups',\n",
       " 'DepTimeBlk',\n",
       " 'TaxiOut',\n",
       " 'WheelsOff',\n",
       " 'WheelsOn',\n",
       " 'TaxiIn',\n",
       " 'CRSArrTime',\n",
       " 'ArrTime',\n",
       " 'ArrDelay',\n",
       " 'ArrDelayMinutes',\n",
       " 'ArrDel15',\n",
       " 'ArrivalDelayGroups',\n",
       " 'ArrTimeBlk',\n",
       " 'Cancelled',\n",
       " 'CancellationCode',\n",
       " 'Diverted',\n",
       " 'CRSElapsedTime',\n",
       " 'ActualElapsedTime',\n",
       " 'AirTime',\n",
       " 'Flights',\n",
       " 'Distance',\n",
       " 'DistanceGroup',\n",
       " 'CarrierDelay',\n",
       " 'WeatherDelay',\n",
       " 'NASDelay',\n",
       " 'SecurityDelay',\n",
       " 'LateAircraftDelay']"
      ]
     },
     "execution_count": 6,
     "metadata": {},
     "output_type": "execute_result"
    }
   ],
   "source": [
    "['Year', 'Quarter', 'Month', 'DayofMonth', 'DayOfWeek', 'FlightDate','Marketing_Airline_Network', 'Tail_Number', 'Flight_Number_Operating_Airline',\n",
    "'Tail_Number', 'Origin', 'Dest', 'OriginCityName', 'OriginState', 'OriginStateFips', 'OriginStateName',\n",
    "'DestCityName', 'DestState', 'DestStateFips', 'DestStateName', 'CRSDepTime', 'DepTime', 'DepDelay',\n",
    "'DepDelayMinutes', 'DepDel15', 'DepartureDelayGroups', 'DepTimeBlk', 'TaxiOut', 'WheelsOff', 'WheelsOn',\n",
    "'TaxiIn', 'CRSArrTime', 'ArrTime', 'ArrDelay', 'ArrDelayMinutes', 'ArrDel15', 'ArrivalDelayGroups',\n",
    "'ArrTimeBlk', 'Cancelled', 'CancellationCode', 'Diverted', 'CRSElapsedTime', 'ActualElapsedTime',\n",
    "'AirTime', 'Flights', 'Distance', 'DistanceGroup', 'CarrierDelay', 'WeatherDelay', 'NASDelay', 'SecurityDelay',\n",
    "'LateAircraftDelay']\n",
    "\n",
    "#DepDel15"
   ]
  },
  {
   "cell_type": "code",
   "execution_count": 7,
   "metadata": {},
   "outputs": [],
   "source": [
    "# ord_df.dropna()"
   ]
  },
  {
   "cell_type": "code",
   "execution_count": 8,
   "metadata": {},
   "outputs": [],
   "source": [
    "ord_df_y = ord_df[['Marketing_Airline_Network', 'Origin', 'DepTimeBlk', 'DepDelay', 'ArrTimeBlk', 'ArrDelay', 'Distance', 'CarrierDelay', 'WeatherDelay', 'NASDelay', 'SecurityDelay', 'LateAircraftDelay', 'TaxiIn', 'TaxiOut']]\n",
    "ord_df_x = ord_df['DepDel15']\n",
    "#'Dest'\n",
    "ord_df_y = pd.get_dummies(data=ord_df_y, columns=[\"Marketing_Airline_Network\",'Origin', 'DepTimeBlk', 'DepDelay', 'ArrTimeBlk', 'ArrDelay', 'Distance', 'CarrierDelay', 'WeatherDelay', 'NASDelay', 'SecurityDelay', 'LateAircraftDelay', 'TaxiIn', 'TaxiOut'])\n",
    "# encode str to ints"
   ]
  },
  {
   "cell_type": "code",
   "execution_count": 9,
   "metadata": {},
   "outputs": [],
   "source": [
    "# ord_df_y = ord_df_y.iloc[0:1001]\n",
    "# ord_df_x = ord_df_x.iloc[0:1001]\n",
    "test_ord_df = ord_df.iloc[0:10001]\n",
    "\n",
    "test_ord_df.dropna()\n",
    "test_ord_df = test_ord_df.fillna(0)\n"
   ]
  },
  {
   "cell_type": "code",
   "execution_count": 10,
   "metadata": {},
   "outputs": [],
   "source": [
    "ord_df_x = test_ord_df[['Marketing_Airline_Network', 'Origin', 'DepTimeBlk', 'DepDelay', 'ArrTimeBlk', 'ArrDelay', 'Distance', 'CarrierDelay', 'WeatherDelay', 'NASDelay', 'SecurityDelay', 'LateAircraftDelay', 'TaxiIn', 'TaxiOut']]\n",
    "ord_df_y = test_ord_df['DepDel15']"
   ]
  },
  {
   "cell_type": "code",
   "execution_count": 11,
   "metadata": {},
   "outputs": [
    {
     "name": "stdout",
     "output_type": "stream",
     "text": [
      "10001\n",
      "10001\n"
     ]
    }
   ],
   "source": [
    "print(len(ord_df_x))\n",
    "print(len(ord_df_y))"
   ]
  },
  {
   "cell_type": "code",
   "execution_count": 12,
   "metadata": {},
   "outputs": [
    {
     "name": "stderr",
     "output_type": "stream",
     "text": [
      "C:\\Users\\adenr\\AppData\\Local\\Temp\\ipykernel_12804\\2822447747.py:2: SettingWithCopyWarning: \n",
      "A value is trying to be set on a copy of a slice from a DataFrame.\n",
      "Try using .loc[row_indexer,col_indexer] = value instead\n",
      "\n",
      "See the caveats in the documentation: https://pandas.pydata.org/pandas-docs/stable/user_guide/indexing.html#returning-a-view-versus-a-copy\n",
      "  ord_df_x[\"Origin\"] = ord_df_x.groupby(\"Origin\").ngroup()\n",
      "C:\\Users\\adenr\\AppData\\Local\\Temp\\ipykernel_12804\\2822447747.py:3: SettingWithCopyWarning: \n",
      "A value is trying to be set on a copy of a slice from a DataFrame.\n",
      "Try using .loc[row_indexer,col_indexer] = value instead\n",
      "\n",
      "See the caveats in the documentation: https://pandas.pydata.org/pandas-docs/stable/user_guide/indexing.html#returning-a-view-versus-a-copy\n",
      "  ord_df_x[\"Marketing_Airline_Network\"] = ord_df_x.groupby(\"Marketing_Airline_Network\").ngroup()\n",
      "C:\\Users\\adenr\\AppData\\Local\\Temp\\ipykernel_12804\\2822447747.py:4: SettingWithCopyWarning: \n",
      "A value is trying to be set on a copy of a slice from a DataFrame.\n",
      "Try using .loc[row_indexer,col_indexer] = value instead\n",
      "\n",
      "See the caveats in the documentation: https://pandas.pydata.org/pandas-docs/stable/user_guide/indexing.html#returning-a-view-versus-a-copy\n",
      "  ord_df_x[\"ArrTimeBlk\"] = ord_df_x.groupby(\"ArrTimeBlk\").ngroup()\n",
      "C:\\Users\\adenr\\AppData\\Local\\Temp\\ipykernel_12804\\2822447747.py:5: SettingWithCopyWarning: \n",
      "A value is trying to be set on a copy of a slice from a DataFrame.\n",
      "Try using .loc[row_indexer,col_indexer] = value instead\n",
      "\n",
      "See the caveats in the documentation: https://pandas.pydata.org/pandas-docs/stable/user_guide/indexing.html#returning-a-view-versus-a-copy\n",
      "  ord_df_x[\"DepTimeBlk\"] = ord_df_x.groupby(\"DepTimeBlk\").ngroup()\n"
     ]
    }
   ],
   "source": [
    "# ord_df_y.head()\n",
    "ord_df_x[\"Origin\"] = ord_df_x.groupby(\"Origin\").ngroup()\n",
    "ord_df_x[\"Marketing_Airline_Network\"] = ord_df_x.groupby(\"Marketing_Airline_Network\").ngroup()\n",
    "ord_df_x[\"ArrTimeBlk\"] = ord_df_x.groupby(\"ArrTimeBlk\").ngroup()\n",
    "ord_df_x[\"DepTimeBlk\"] = ord_df_x.groupby(\"DepTimeBlk\").ngroup()\n",
    "# ord_df_y.head()\n"
   ]
  },
  {
   "cell_type": "code",
   "execution_count": 13,
   "metadata": {},
   "outputs": [
    {
     "name": "stdout",
     "output_type": "stream",
     "text": [
      "10001\n",
      "10001\n"
     ]
    }
   ],
   "source": [
    "print(len(ord_df_x))\n",
    "print(len(ord_df_y))\n",
    "x_train, x_test, y_train, y_test= train_test_split(ord_df_x, ord_df_y)"
   ]
  },
  {
   "cell_type": "code",
   "execution_count": null,
   "metadata": {},
   "outputs": [],
   "source": []
  },
  {
   "cell_type": "code",
   "execution_count": 14,
   "metadata": {},
   "outputs": [],
   "source": [
    "# x_train = x_train.fillna(0)\n",
    "# x_train\n",
    "# y_train.dropna()\n",
    "# y_train = y_train.fillna(0)"
   ]
  },
  {
   "cell_type": "code",
   "execution_count": null,
   "metadata": {},
   "outputs": [],
   "source": []
  },
  {
   "cell_type": "code",
   "execution_count": 15,
   "metadata": {},
   "outputs": [],
   "source": [
    "# x_train = x_train.to_numpy()\n",
    "\n",
    "# fit = LogisticRegression().fit(x_train.reshape(-1,1), y_train)\n",
    "fit = LogisticRegression(solver='lbfgs', max_iter=10000).fit(x_train, y_train)"
   ]
  },
  {
   "cell_type": "code",
   "execution_count": 16,
   "metadata": {},
   "outputs": [],
   "source": [
    "y_pred = fit.predict(x_test)"
   ]
  },
  {
   "cell_type": "code",
   "execution_count": 17,
   "metadata": {},
   "outputs": [
    {
     "name": "stdout",
     "output_type": "stream",
     "text": [
      "[[2178    0]\n",
      " [   0  323]]\n"
     ]
    }
   ],
   "source": [
    "from sklearn.metrics import confusion_matrix\n",
    "\n",
    "matrix = confusion_matrix(y_test, y_pred)\n",
    "print(matrix)"
   ]
  },
  {
   "cell_type": "code",
   "execution_count": 18,
   "metadata": {},
   "outputs": [],
   "source": [
    "# fit.predict(x_test)"
   ]
  },
  {
   "cell_type": "code",
   "execution_count": 19,
   "metadata": {},
   "outputs": [],
   "source": [
    "# good for p values?\n",
    "#import statsmodels.api as sm\n",
    "# logit_model=sm.Logit(y,X)\n",
    "# result=logit_model.fit()\n",
    "# print(result.summary2())"
   ]
  }
 ],
 "metadata": {
  "kernelspec": {
   "display_name": "dat490",
   "language": "python",
   "name": "python3"
  },
  "language_info": {
   "codemirror_mode": {
    "name": "ipython",
    "version": 3
   },
   "file_extension": ".py",
   "mimetype": "text/x-python",
   "name": "python",
   "nbconvert_exporter": "python",
   "pygments_lexer": "ipython3",
   "version": "3.9.16"
  },
  "orig_nbformat": 4
 },
 "nbformat": 4,
 "nbformat_minor": 2
}
