{
 "cells": [
  {
   "cell_type": "code",
   "execution_count": 23,
   "metadata": {},
   "outputs": [],
   "source": [
    "import pandas as pd"
   ]
  },
  {
   "cell_type": "code",
   "execution_count": 24,
   "metadata": {},
   "outputs": [
    {
     "name": "stderr",
     "output_type": "stream",
     "text": [
      "/tmp/ipykernel_226615/52707288.py:1: DtypeWarning: Columns (12,14,87,94) have mixed types. Specify dtype option on import or set low_memory=False.\n",
      "  df = pd.read_csv(\"../data/ORD_11_21-11_22.csv\")\n"
     ]
    }
   ],
   "source": [
    "df = pd.read_csv(\"../data/ORD_11_21-11_22.csv\")"
   ]
  },
  {
   "cell_type": "code",
   "execution_count": 25,
   "metadata": {},
   "outputs": [],
   "source": [
    "df['CarrierDelay'] = df['CarrierDelay'].fillna(0)\n",
    "df['WeatherDelay'] = df['WeatherDelay'].fillna(0)\n",
    "df['NASDelay'] = df['NASDelay'].fillna(0)\n",
    "df['SecurityDelay'] = df['SecurityDelay'].fillna(0)\n",
    "df['LateAircraftDelay'] = df['LateAircraftDelay'].fillna(0)"
   ]
  },
  {
   "cell_type": "code",
   "execution_count": 26,
   "metadata": {},
   "outputs": [],
   "source": [
    "init_test_lst = ['Marketing_Airline_Network', 'Origin', 'DepTimeBlk', 'DepDelay', 'ArrTimeBlk', 'ArrDelay', 'Distance', 'CarrierDelay', 'WeatherDelay',\n",
    "                  'NASDelay', 'SecurityDelay', 'LateAircraftDelay', 'TaxiIn', 'TaxiOut']\n",
    "model_col_lst = ['DOT_ID_Marketing_Airline', 'OriginAirportSeqID', 'DepTimeBlk', 'DepDelay', 'DestAirportSeqID', 'ArrTimeBlk', 'ArrivalDelayGroups', 'ArrDelay',\n",
    "                  'Distance', 'CarrierDelay', 'WeatherDelay', 'NASDelay', 'SecurityDelay', 'LateAircraftDelay', 'TaxiIn', 'TaxiOut', 'ArrDel15', 'CRSElapsedTime',\n",
    "                  'CRSDepTime', 'CRSArrTime']\n",
    "\n",
    "# blk_mapping.csv as a dict\n",
    "blk_map_dict ={\n",
    "    '0001-0559' : 0,\n",
    "    '0600-0659' : 6,\n",
    "    '0700-0759' : 7,\n",
    "    '0800-0859' : 8,\n",
    "    '0900-0959' : 9,\n",
    "    '1000-1059' : 10,\n",
    "    '1100-1159' : 11,\n",
    "    '1200-1259' : 12,\n",
    "    '1300-1359' : 13,\n",
    "    '1400-1459' : 14,\n",
    "    '1500-1559' : 15,\n",
    "    '1600-1659' : 16,\n",
    "    '1700-1759' : 17,\n",
    "    '1800-1859' : 18,\n",
    "    '1900-1959' : 19,\n",
    "    '2000-2059' : 20,\n",
    "    '2100-2159' : 21,\n",
    "    '2200-2259' : 22,\n",
    "    '2300-2359' : 23\n",
    "}\n"
   ]
  },
  {
   "cell_type": "code",
   "execution_count": 27,
   "metadata": {},
   "outputs": [],
   "source": [
    "model_df = df.copy()"
   ]
  },
  {
   "cell_type": "code",
   "execution_count": 28,
   "metadata": {},
   "outputs": [],
   "source": [
    "model_df['DepTimeBlk'] = df['DepTimeBlk'].apply(lambda x: blk_map_dict.get(x))\n",
    "model_df['ArrTimeBlk'] = df['ArrTimeBlk'].apply(lambda x: blk_map_dict.get(x))"
   ]
  },
  {
   "cell_type": "code",
   "execution_count": 29,
   "metadata": {},
   "outputs": [
    {
     "name": "stdout",
     "output_type": "stream",
     "text": [
      "Index(['DOT_ID_Marketing_Airline', 'OriginAirportSeqID', 'DepTimeBlk',\n",
      "       'DepDelay', 'DestAirportSeqID', 'ArrTimeBlk', 'ArrivalDelayGroups',\n",
      "       'ArrDelay', 'Distance', 'CarrierDelay', 'WeatherDelay', 'NASDelay',\n",
      "       'SecurityDelay', 'LateAircraftDelay', 'TaxiIn', 'TaxiOut', 'ArrDel15',\n",
      "       'CRSElapsedTime', 'CRSDepTime', 'CRSArrTime'],\n",
      "      dtype='object')\n"
     ]
    },
    {
     "data": {
      "text/html": [
       "<div>\n",
       "<style scoped>\n",
       "    .dataframe tbody tr th:only-of-type {\n",
       "        vertical-align: middle;\n",
       "    }\n",
       "\n",
       "    .dataframe tbody tr th {\n",
       "        vertical-align: top;\n",
       "    }\n",
       "\n",
       "    .dataframe thead th {\n",
       "        text-align: right;\n",
       "    }\n",
       "</style>\n",
       "<table border=\"1\" class=\"dataframe\">\n",
       "  <thead>\n",
       "    <tr style=\"text-align: right;\">\n",
       "      <th></th>\n",
       "      <th>DOT_ID_Marketing_Airline</th>\n",
       "      <th>OriginAirportSeqID</th>\n",
       "      <th>DepTimeBlk</th>\n",
       "      <th>DepDelay</th>\n",
       "      <th>DestAirportSeqID</th>\n",
       "      <th>ArrTimeBlk</th>\n",
       "      <th>ArrivalDelayGroups</th>\n",
       "      <th>ArrDelay</th>\n",
       "      <th>Distance</th>\n",
       "      <th>CarrierDelay</th>\n",
       "      <th>WeatherDelay</th>\n",
       "      <th>NASDelay</th>\n",
       "      <th>SecurityDelay</th>\n",
       "      <th>LateAircraftDelay</th>\n",
       "      <th>TaxiIn</th>\n",
       "      <th>TaxiOut</th>\n",
       "      <th>ArrDel15</th>\n",
       "      <th>CRSElapsedTime</th>\n",
       "      <th>CRSDepTime</th>\n",
       "      <th>CRSArrTime</th>\n",
       "    </tr>\n",
       "  </thead>\n",
       "  <tbody>\n",
       "    <tr>\n",
       "      <th>0</th>\n",
       "      <td>19977</td>\n",
       "      <td>1393007</td>\n",
       "      <td>14</td>\n",
       "      <td>7.0</td>\n",
       "      <td>1043105</td>\n",
       "      <td>17</td>\n",
       "      <td>0.0</td>\n",
       "      <td>1.0</td>\n",
       "      <td>536.0</td>\n",
       "      <td>0.0</td>\n",
       "      <td>0.0</td>\n",
       "      <td>0.0</td>\n",
       "      <td>0.0</td>\n",
       "      <td>0.0</td>\n",
       "      <td>2.0</td>\n",
       "      <td>36.0</td>\n",
       "      <td>0.0</td>\n",
       "      <td>116.0</td>\n",
       "      <td>1405</td>\n",
       "      <td>1701</td>\n",
       "    </tr>\n",
       "    <tr>\n",
       "      <th>1</th>\n",
       "      <td>19977</td>\n",
       "      <td>1079206</td>\n",
       "      <td>17</td>\n",
       "      <td>19.0</td>\n",
       "      <td>1393007</td>\n",
       "      <td>18</td>\n",
       "      <td>2.0</td>\n",
       "      <td>30.0</td>\n",
       "      <td>473.0</td>\n",
       "      <td>1.0</td>\n",
       "      <td>0.0</td>\n",
       "      <td>11.0</td>\n",
       "      <td>0.0</td>\n",
       "      <td>18.0</td>\n",
       "      <td>18.0</td>\n",
       "      <td>31.0</td>\n",
       "      <td>1.0</td>\n",
       "      <td>127.0</td>\n",
       "      <td>1730</td>\n",
       "      <td>1837</td>\n",
       "    </tr>\n",
       "    <tr>\n",
       "      <th>2</th>\n",
       "      <td>19977</td>\n",
       "      <td>1334207</td>\n",
       "      <td>6</td>\n",
       "      <td>-10.0</td>\n",
       "      <td>1393007</td>\n",
       "      <td>7</td>\n",
       "      <td>-1.0</td>\n",
       "      <td>-11.0</td>\n",
       "      <td>67.0</td>\n",
       "      <td>0.0</td>\n",
       "      <td>0.0</td>\n",
       "      <td>0.0</td>\n",
       "      <td>0.0</td>\n",
       "      <td>0.0</td>\n",
       "      <td>15.0</td>\n",
       "      <td>20.0</td>\n",
       "      <td>0.0</td>\n",
       "      <td>65.0</td>\n",
       "      <td>620</td>\n",
       "      <td>725</td>\n",
       "    </tr>\n",
       "    <tr>\n",
       "      <th>3</th>\n",
       "      <td>19977</td>\n",
       "      <td>1393007</td>\n",
       "      <td>12</td>\n",
       "      <td>-6.0</td>\n",
       "      <td>1419306</td>\n",
       "      <td>15</td>\n",
       "      <td>0.0</td>\n",
       "      <td>4.0</td>\n",
       "      <td>794.0</td>\n",
       "      <td>0.0</td>\n",
       "      <td>0.0</td>\n",
       "      <td>0.0</td>\n",
       "      <td>0.0</td>\n",
       "      <td>0.0</td>\n",
       "      <td>4.0</td>\n",
       "      <td>35.0</td>\n",
       "      <td>0.0</td>\n",
       "      <td>153.0</td>\n",
       "      <td>1255</td>\n",
       "      <td>1528</td>\n",
       "    </tr>\n",
       "    <tr>\n",
       "      <th>4</th>\n",
       "      <td>19977</td>\n",
       "      <td>1419306</td>\n",
       "      <td>16</td>\n",
       "      <td>0.0</td>\n",
       "      <td>1393007</td>\n",
       "      <td>18</td>\n",
       "      <td>-1.0</td>\n",
       "      <td>-13.0</td>\n",
       "      <td>794.0</td>\n",
       "      <td>0.0</td>\n",
       "      <td>0.0</td>\n",
       "      <td>0.0</td>\n",
       "      <td>0.0</td>\n",
       "      <td>0.0</td>\n",
       "      <td>9.0</td>\n",
       "      <td>17.0</td>\n",
       "      <td>0.0</td>\n",
       "      <td>159.0</td>\n",
       "      <td>1601</td>\n",
       "      <td>1840</td>\n",
       "    </tr>\n",
       "  </tbody>\n",
       "</table>\n",
       "</div>"
      ],
      "text/plain": [
       "   DOT_ID_Marketing_Airline  OriginAirportSeqID  DepTimeBlk  DepDelay  \\\n",
       "0                     19977             1393007          14       7.0   \n",
       "1                     19977             1079206          17      19.0   \n",
       "2                     19977             1334207           6     -10.0   \n",
       "3                     19977             1393007          12      -6.0   \n",
       "4                     19977             1419306          16       0.0   \n",
       "\n",
       "   DestAirportSeqID  ArrTimeBlk  ArrivalDelayGroups  ArrDelay  Distance  \\\n",
       "0           1043105          17                 0.0       1.0     536.0   \n",
       "1           1393007          18                 2.0      30.0     473.0   \n",
       "2           1393007           7                -1.0     -11.0      67.0   \n",
       "3           1419306          15                 0.0       4.0     794.0   \n",
       "4           1393007          18                -1.0     -13.0     794.0   \n",
       "\n",
       "   CarrierDelay  WeatherDelay  NASDelay  SecurityDelay  LateAircraftDelay  \\\n",
       "0           0.0           0.0       0.0            0.0                0.0   \n",
       "1           1.0           0.0      11.0            0.0               18.0   \n",
       "2           0.0           0.0       0.0            0.0                0.0   \n",
       "3           0.0           0.0       0.0            0.0                0.0   \n",
       "4           0.0           0.0       0.0            0.0                0.0   \n",
       "\n",
       "   TaxiIn  TaxiOut  ArrDel15  CRSElapsedTime  CRSDepTime  CRSArrTime  \n",
       "0     2.0     36.0       0.0           116.0        1405        1701  \n",
       "1    18.0     31.0       1.0           127.0        1730        1837  \n",
       "2    15.0     20.0       0.0            65.0         620         725  \n",
       "3     4.0     35.0       0.0           153.0        1255        1528  \n",
       "4     9.0     17.0       0.0           159.0        1601        1840  "
      ]
     },
     "execution_count": 29,
     "metadata": {},
     "output_type": "execute_result"
    }
   ],
   "source": [
    "model_df = model_df[model_col_lst]\n",
    "print(model_df.columns)\n",
    "model_df.head()"
   ]
  },
  {
   "cell_type": "code",
   "execution_count": 30,
   "metadata": {},
   "outputs": [],
   "source": [
    "model_df = model_df.dropna()"
   ]
  },
  {
   "cell_type": "code",
   "execution_count": 31,
   "metadata": {},
   "outputs": [
    {
     "data": {
      "text/plain": [
       "False"
      ]
     },
     "execution_count": 31,
     "metadata": {},
     "output_type": "execute_result"
    }
   ],
   "source": [
    "model_df.isna().values.any()"
   ]
  },
  {
   "cell_type": "code",
   "execution_count": 32,
   "metadata": {},
   "outputs": [
    {
     "name": "stdout",
     "output_type": "stream",
     "text": [
      "582721\n"
     ]
    }
   ],
   "source": [
    "print(len(model_df))"
   ]
  },
  {
   "cell_type": "code",
   "execution_count": 33,
   "metadata": {},
   "outputs": [],
   "source": [
    "model_df.to_csv('../data/ORD_11_21-11-22_model.csv')"
   ]
  }
 ],
 "metadata": {
  "kernelspec": {
   "display_name": "dat494",
   "language": "python",
   "name": "python3"
  },
  "language_info": {
   "codemirror_mode": {
    "name": "ipython",
    "version": 3
   },
   "file_extension": ".py",
   "mimetype": "text/x-python",
   "name": "python",
   "nbconvert_exporter": "python",
   "pygments_lexer": "ipython3",
   "version": "3.8.16"
  },
  "orig_nbformat": 4
 },
 "nbformat": 4,
 "nbformat_minor": 2
}
