{
 "cells": [
  {
   "cell_type": "code",
   "execution_count": 12,
   "metadata": {},
   "outputs": [],
   "source": [
    "import pandas as pd"
   ]
  },
  {
   "cell_type": "code",
   "execution_count": 13,
   "metadata": {},
   "outputs": [
    {
     "name": "stderr",
     "output_type": "stream",
     "text": [
      "C:\\Users\\adenr\\AppData\\Local\\Temp\\ipykernel_18776\\52707288.py:1: DtypeWarning: Columns (12,14,87,94) have mixed types. Specify dtype option on import or set low_memory=False.\n",
      "  df = pd.read_csv(\"../data/ORD_11_21-11_22.csv\")\n"
     ]
    }
   ],
   "source": [
    "df = pd.read_csv(\"../data/ORD_11_21-11_22.csv\")"
   ]
  },
  {
   "cell_type": "code",
   "execution_count": 14,
   "metadata": {},
   "outputs": [],
   "source": [
    "df['CarrierDelay'] = df['CarrierDelay'].fillna(0)\n",
    "df['WeatherDelay'] = df['WeatherDelay'].fillna(0)\n",
    "df['NASDelay'] = df['NASDelay'].fillna(0)\n",
    "df['SecurityDelay'] = df['SecurityDelay'].fillna(0)\n",
    "df['LateAircraftDelay'] = df['LateAircraftDelay'].fillna(0)"
   ]
  },
  {
   "cell_type": "code",
   "execution_count": 15,
   "metadata": {},
   "outputs": [],
   "source": [
    "init_test_lst = ['Marketing_Airline_Network', 'Origin', 'DepTimeBlk', 'DepDelay', 'ArrTimeBlk', 'ArrDelay', 'Distance', 'CarrierDelay', 'WeatherDelay',\n",
    "                  'NASDelay', 'SecurityDelay', 'LateAircraftDelay', 'TaxiIn', 'TaxiOut']\n",
    "model_col_lst = ['FlightDate', 'DOT_ID_Marketing_Airline', 'OriginAirportSeqID', 'DepTimeBlk', 'DepDelay', 'DepDel15', 'DestAirportSeqID', 'ArrTimeBlk', 'ArrivalDelayGroups', 'ArrDelay',\n",
    "                  'Distance', 'CarrierDelay', 'WeatherDelay', 'NASDelay', 'SecurityDelay', 'LateAircraftDelay', 'TaxiIn', 'TaxiOut', 'ArrDel15', 'CRSElapsedTime',\n",
    "                  'CRSDepTime', 'CRSArrTime', 'Quarter', 'Month', 'DayOfWeek', 'DepartureDelayGroups']\n",
    "\n",
    "# blk_mapping.csv as a dict\n",
    "blk_map_dict ={\n",
    "    '0001-0559' : 0,\n",
    "    '0600-0659' : 6,\n",
    "    '0700-0759' : 7,\n",
    "    '0800-0859' : 8,\n",
    "    '0900-0959' : 9,\n",
    "    '1000-1059' : 10,\n",
    "    '1100-1159' : 11,\n",
    "    '1200-1259' : 12,\n",
    "    '1300-1359' : 13,\n",
    "    '1400-1459' : 14,\n",
    "    '1500-1559' : 15,\n",
    "    '1600-1659' : 16,\n",
    "    '1700-1759' : 17,\n",
    "    '1800-1859' : 18,\n",
    "    '1900-1959' : 19,\n",
    "    '2000-2059' : 20,\n",
    "    '2100-2159' : 21,\n",
    "    '2200-2259' : 22,\n",
    "    '2300-2359' : 23\n",
    "}\n"
   ]
  },
  {
   "cell_type": "code",
   "execution_count": 16,
   "metadata": {},
   "outputs": [],
   "source": [
    "model_df = df.copy()"
   ]
  },
  {
   "cell_type": "code",
   "execution_count": 17,
   "metadata": {},
   "outputs": [],
   "source": [
    "model_df['DepTimeBlk'] = df['DepTimeBlk'].apply(lambda x: blk_map_dict.get(x))\n",
    "model_df['ArrTimeBlk'] = df['ArrTimeBlk'].apply(lambda x: blk_map_dict.get(x))"
   ]
  },
  {
   "cell_type": "code",
   "execution_count": 18,
   "metadata": {},
   "outputs": [
    {
     "name": "stdout",
     "output_type": "stream",
     "text": [
      "Index(['FlightDate', 'DOT_ID_Marketing_Airline', 'OriginAirportSeqID',\n",
      "       'DepTimeBlk', 'DepDelay', 'DepDel15', 'DestAirportSeqID', 'ArrTimeBlk',\n",
      "       'ArrivalDelayGroups', 'ArrDelay', 'Distance', 'CarrierDelay',\n",
      "       'WeatherDelay', 'NASDelay', 'SecurityDelay', 'LateAircraftDelay',\n",
      "       'TaxiIn', 'TaxiOut', 'ArrDel15', 'CRSElapsedTime', 'CRSDepTime',\n",
      "       'CRSArrTime', 'Quarter', 'Month', 'DayOfWeek', 'DepartureDelayGroups'],\n",
      "      dtype='object')\n"
     ]
    },
    {
     "data": {
      "text/html": [
       "<div>\n",
       "<style scoped>\n",
       "    .dataframe tbody tr th:only-of-type {\n",
       "        vertical-align: middle;\n",
       "    }\n",
       "\n",
       "    .dataframe tbody tr th {\n",
       "        vertical-align: top;\n",
       "    }\n",
       "\n",
       "    .dataframe thead th {\n",
       "        text-align: right;\n",
       "    }\n",
       "</style>\n",
       "<table border=\"1\" class=\"dataframe\">\n",
       "  <thead>\n",
       "    <tr style=\"text-align: right;\">\n",
       "      <th></th>\n",
       "      <th>FlightDate</th>\n",
       "      <th>DOT_ID_Marketing_Airline</th>\n",
       "      <th>OriginAirportSeqID</th>\n",
       "      <th>DepTimeBlk</th>\n",
       "      <th>DepDelay</th>\n",
       "      <th>DepDel15</th>\n",
       "      <th>DestAirportSeqID</th>\n",
       "      <th>ArrTimeBlk</th>\n",
       "      <th>ArrivalDelayGroups</th>\n",
       "      <th>ArrDelay</th>\n",
       "      <th>...</th>\n",
       "      <th>TaxiIn</th>\n",
       "      <th>TaxiOut</th>\n",
       "      <th>ArrDel15</th>\n",
       "      <th>CRSElapsedTime</th>\n",
       "      <th>CRSDepTime</th>\n",
       "      <th>CRSArrTime</th>\n",
       "      <th>Quarter</th>\n",
       "      <th>Month</th>\n",
       "      <th>DayOfWeek</th>\n",
       "      <th>DepartureDelayGroups</th>\n",
       "    </tr>\n",
       "  </thead>\n",
       "  <tbody>\n",
       "    <tr>\n",
       "      <th>0</th>\n",
       "      <td>2021-11-17</td>\n",
       "      <td>19977</td>\n",
       "      <td>1393007</td>\n",
       "      <td>14</td>\n",
       "      <td>7.0</td>\n",
       "      <td>0.0</td>\n",
       "      <td>1043105</td>\n",
       "      <td>17</td>\n",
       "      <td>0.0</td>\n",
       "      <td>1.0</td>\n",
       "      <td>...</td>\n",
       "      <td>2.0</td>\n",
       "      <td>36.0</td>\n",
       "      <td>0.0</td>\n",
       "      <td>116.0</td>\n",
       "      <td>1405</td>\n",
       "      <td>1701</td>\n",
       "      <td>4</td>\n",
       "      <td>11</td>\n",
       "      <td>3</td>\n",
       "      <td>0.0</td>\n",
       "    </tr>\n",
       "    <tr>\n",
       "      <th>1</th>\n",
       "      <td>2021-11-17</td>\n",
       "      <td>19977</td>\n",
       "      <td>1079206</td>\n",
       "      <td>17</td>\n",
       "      <td>19.0</td>\n",
       "      <td>1.0</td>\n",
       "      <td>1393007</td>\n",
       "      <td>18</td>\n",
       "      <td>2.0</td>\n",
       "      <td>30.0</td>\n",
       "      <td>...</td>\n",
       "      <td>18.0</td>\n",
       "      <td>31.0</td>\n",
       "      <td>1.0</td>\n",
       "      <td>127.0</td>\n",
       "      <td>1730</td>\n",
       "      <td>1837</td>\n",
       "      <td>4</td>\n",
       "      <td>11</td>\n",
       "      <td>3</td>\n",
       "      <td>1.0</td>\n",
       "    </tr>\n",
       "    <tr>\n",
       "      <th>2</th>\n",
       "      <td>2021-11-17</td>\n",
       "      <td>19977</td>\n",
       "      <td>1334207</td>\n",
       "      <td>6</td>\n",
       "      <td>-10.0</td>\n",
       "      <td>0.0</td>\n",
       "      <td>1393007</td>\n",
       "      <td>7</td>\n",
       "      <td>-1.0</td>\n",
       "      <td>-11.0</td>\n",
       "      <td>...</td>\n",
       "      <td>15.0</td>\n",
       "      <td>20.0</td>\n",
       "      <td>0.0</td>\n",
       "      <td>65.0</td>\n",
       "      <td>620</td>\n",
       "      <td>725</td>\n",
       "      <td>4</td>\n",
       "      <td>11</td>\n",
       "      <td>3</td>\n",
       "      <td>-1.0</td>\n",
       "    </tr>\n",
       "    <tr>\n",
       "      <th>3</th>\n",
       "      <td>2021-11-17</td>\n",
       "      <td>19977</td>\n",
       "      <td>1393007</td>\n",
       "      <td>12</td>\n",
       "      <td>-6.0</td>\n",
       "      <td>0.0</td>\n",
       "      <td>1419306</td>\n",
       "      <td>15</td>\n",
       "      <td>0.0</td>\n",
       "      <td>4.0</td>\n",
       "      <td>...</td>\n",
       "      <td>4.0</td>\n",
       "      <td>35.0</td>\n",
       "      <td>0.0</td>\n",
       "      <td>153.0</td>\n",
       "      <td>1255</td>\n",
       "      <td>1528</td>\n",
       "      <td>4</td>\n",
       "      <td>11</td>\n",
       "      <td>3</td>\n",
       "      <td>-1.0</td>\n",
       "    </tr>\n",
       "    <tr>\n",
       "      <th>4</th>\n",
       "      <td>2021-11-17</td>\n",
       "      <td>19977</td>\n",
       "      <td>1419306</td>\n",
       "      <td>16</td>\n",
       "      <td>0.0</td>\n",
       "      <td>0.0</td>\n",
       "      <td>1393007</td>\n",
       "      <td>18</td>\n",
       "      <td>-1.0</td>\n",
       "      <td>-13.0</td>\n",
       "      <td>...</td>\n",
       "      <td>9.0</td>\n",
       "      <td>17.0</td>\n",
       "      <td>0.0</td>\n",
       "      <td>159.0</td>\n",
       "      <td>1601</td>\n",
       "      <td>1840</td>\n",
       "      <td>4</td>\n",
       "      <td>11</td>\n",
       "      <td>3</td>\n",
       "      <td>0.0</td>\n",
       "    </tr>\n",
       "  </tbody>\n",
       "</table>\n",
       "<p>5 rows × 26 columns</p>\n",
       "</div>"
      ],
      "text/plain": [
       "   FlightDate  DOT_ID_Marketing_Airline  OriginAirportSeqID  DepTimeBlk  \\\n",
       "0  2021-11-17                     19977             1393007          14   \n",
       "1  2021-11-17                     19977             1079206          17   \n",
       "2  2021-11-17                     19977             1334207           6   \n",
       "3  2021-11-17                     19977             1393007          12   \n",
       "4  2021-11-17                     19977             1419306          16   \n",
       "\n",
       "   DepDelay  DepDel15  DestAirportSeqID  ArrTimeBlk  ArrivalDelayGroups  \\\n",
       "0       7.0       0.0           1043105          17                 0.0   \n",
       "1      19.0       1.0           1393007          18                 2.0   \n",
       "2     -10.0       0.0           1393007           7                -1.0   \n",
       "3      -6.0       0.0           1419306          15                 0.0   \n",
       "4       0.0       0.0           1393007          18                -1.0   \n",
       "\n",
       "   ArrDelay  ...  TaxiIn  TaxiOut  ArrDel15  CRSElapsedTime  CRSDepTime  \\\n",
       "0       1.0  ...     2.0     36.0       0.0           116.0        1405   \n",
       "1      30.0  ...    18.0     31.0       1.0           127.0        1730   \n",
       "2     -11.0  ...    15.0     20.0       0.0            65.0         620   \n",
       "3       4.0  ...     4.0     35.0       0.0           153.0        1255   \n",
       "4     -13.0  ...     9.0     17.0       0.0           159.0        1601   \n",
       "\n",
       "   CRSArrTime  Quarter  Month  DayOfWeek  DepartureDelayGroups  \n",
       "0        1701        4     11          3                   0.0  \n",
       "1        1837        4     11          3                   1.0  \n",
       "2         725        4     11          3                  -1.0  \n",
       "3        1528        4     11          3                  -1.0  \n",
       "4        1840        4     11          3                   0.0  \n",
       "\n",
       "[5 rows x 26 columns]"
      ]
     },
     "execution_count": 18,
     "metadata": {},
     "output_type": "execute_result"
    }
   ],
   "source": [
    "model_df = model_df[model_col_lst]\n",
    "print(model_df.columns)\n",
    "model_df.head()"
   ]
  },
  {
   "cell_type": "code",
   "execution_count": 19,
   "metadata": {},
   "outputs": [],
   "source": [
    "model_df = model_df[model_df['ArrDelay'] < 720]"
   ]
  },
  {
   "cell_type": "code",
   "execution_count": 20,
   "metadata": {},
   "outputs": [],
   "source": [
    "model_df = model_df.dropna()"
   ]
  },
  {
   "cell_type": "code",
   "execution_count": 21,
   "metadata": {},
   "outputs": [
    {
     "data": {
      "text/plain": [
       "False"
      ]
     },
     "execution_count": 21,
     "metadata": {},
     "output_type": "execute_result"
    }
   ],
   "source": [
    "model_df.isna().values.any()"
   ]
  },
  {
   "cell_type": "code",
   "execution_count": 22,
   "metadata": {},
   "outputs": [
    {
     "name": "stdout",
     "output_type": "stream",
     "text": [
      "582045\n"
     ]
    }
   ],
   "source": [
    "print(len(model_df))"
   ]
  },
  {
   "cell_type": "code",
   "execution_count": 23,
   "metadata": {},
   "outputs": [],
   "source": [
    "model_df.to_csv('../data/ORD_11_21-11-22_model.csv')"
   ]
  }
 ],
 "metadata": {
  "kernelspec": {
   "display_name": "dat494",
   "language": "python",
   "name": "python3"
  },
  "language_info": {
   "codemirror_mode": {
    "name": "ipython",
    "version": 3
   },
   "file_extension": ".py",
   "mimetype": "text/x-python",
   "name": "python",
   "nbconvert_exporter": "python",
   "pygments_lexer": "ipython3",
   "version": "3.9.16"
  },
  "orig_nbformat": 4
 },
 "nbformat": 4,
 "nbformat_minor": 2
}
